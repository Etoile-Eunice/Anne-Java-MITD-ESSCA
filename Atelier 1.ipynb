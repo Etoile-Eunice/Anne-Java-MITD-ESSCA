{
 "cells": [
  {
   "cell_type": "code",
   "execution_count": 25,
   "metadata": {},
   "outputs": [
    {
     "name": "stdout",
     "output_type": "stream",
     "text": [
      "------------------------------------------------------------------\n",
      "| Produits    |  Quantités    |   Prix Unitaire   |  Prix Total  |\n",
      "------------------------------------------------------------------\n",
      "|    Stylos   |      5         |      1.20 €      |       6 €    |\n",
      "------------------------------------------------------------------\n",
      "|    Cahiers  |      2         |      3.50 €      |       7 €    |\n",
      "------------------------------------------------------------------\n",
      "|    Total    |       7        |       4.70 €     |       13 €   |\n"
     ]
    }
   ],
   "source": [
    "System.out.println(\"------------------------------------------------------------------\");\n",
    "System.out.println(\"| Produits    |  Quantités    |   Prix Unitaire   |  Prix Total  |\"); \n",
    "System.out.println(\"------------------------------------------------------------------\");\n",
    "System.out.println(\"|    Stylos   |      5         |      1.20 €      |       6 €    |\");\n",
    "System.out.println(\"------------------------------------------------------------------\");\n",
    "System.out.println(\"|    Cahiers  |      2         |      3.50 €      |       7 €    |\");\n",
    "System.out.println(\"------------------------------------------------------------------\");\n",
    "System.out.println(\"|    Total    |       7        |       4.70 €     |       13 €   |\");"
   ]
  },
  {
   "cell_type": "code",
   "execution_count": 41,
   "metadata": {},
   "outputs": [],
   "source": [
    "int quantite1 = 5, quantite2 = 2, total = 0;\n",
    "String nomProduit1 = \"Stylos\", nomProduit2 = \"Cahiers\";\n",
    "double prixUnitaire1 = 1.20, prixUnitaire2 = 3.50;"
   ]
  },
  {
   "cell_type": "code",
   "execution_count": 81,
   "metadata": {},
   "outputs": [
    {
     "name": "stdout",
     "output_type": "stream",
     "text": [
      "------------------------------------------------------------------\n",
      "| Produits    |  Quantités    |   Prix Unitaire   |  Prix Total  |\n",
      "------------------------------------------------------------------\n"
     ]
    },
    {
     "name": "stdout",
     "output_type": "stream",
     "text": [
      "|    Stylos   |      10       |        1.20 €     |    12.00 €   |\n",
      "------------------------------------------------------------------\n",
      "|    Cahiers  |       11      |       3.50 €      |     38.50 €  |\n",
      "------------------------------------------------------------------\n",
      "|    Total    |       21      |        4.70 €     |     50.50 €  |\n"
     ]
    },
    {
     "data": {
      "text/plain": [
       "java.io.PrintStream@4b31b027"
      ]
     },
     "execution_count": 81,
     "metadata": {},
     "output_type": "execute_result"
    }
   ],
   "source": [
    "System.out.println(\"------------------------------------------------------------------\");\n",
    "System.out.println(\"| Produits    |  Quantités    |   Prix Unitaire   |  Prix Total  |\"); \n",
    "System.out.println(\"------------------------------------------------------------------\");\n",
    "System.out.printf(\"|    %s   |     %3d       |     %7.2f €     |  %7.2f €   |\\n\",nomProduit1,quantite1,prixUnitaire1,quantite1*prixUnitaire1);\n",
    "System.out.println(\"------------------------------------------------------------------\");\n",
    "System.out.printf(\"|    %s  |      %3d      |    %7.2f €      |   %7.2f €  |\\n\",nomProduit2,quantite2,prixUnitaire2,quantite2*prixUnitaire2);\n",
    "System.out.println(\"------------------------------------------------------------------\");\n",
    "System.out.printf(\"|    Total    |      %3d      |     %7.2f €     |   %7.2f €  |\\n\",quantite1+quantite2,prixUnitaire1+prixUnitaire2,quantite1*prixUnitaire1+quantite2*prixUnitaire2);"
   ]
  },
  {
   "cell_type": "code",
   "execution_count": null,
   "metadata": {},
   "outputs": [],
   "source": [
    "import java.util.Scanner;"
   ]
  },
  {
   "cell_type": "code",
   "execution_count": 82,
   "metadata": {},
   "outputs": [
    {
     "name": "stdout",
     "output_type": "stream",
     "text": [
      "Veuillez saisir votre nom : \n",
      "------------------------------------------------------------------\n",
      "| Produits    |  Quantités    |   Prix Unitaire   |  Prix Total  |\n",
      "------------------------------------------------------------------\n",
      "|    Stylos   |       7       |        1.20 €     |     8.40 €   |\n",
      "------------------------------------------------------------------\n",
      "|    Cahiers  |        8      |       3.50 €      |     28.00 €  |\n",
      "------------------------------------------------------------------\n",
      "|    Total    |       15      |        4.70 €     |     36.40 €  |\n"
     ]
    },
    {
     "data": {
      "text/plain": [
       "java.io.PrintStream@5b4dc4b5"
      ]
     },
     "execution_count": 82,
     "metadata": {},
     "output_type": "execute_result"
    }
   ],
   "source": [
    "Scanner clavier = new Scanner(System.in);\n",
    "int quantite1 = 0, quantite2 = 0, total = 0;\n",
    "String nomProduit1 = \"Stylos\", nomProduit2 = \"Cahiers\";\n",
    "double prixUnitaire1 = 1.20, prixUnitaire2 = 3.50;\n",
    "\n",
    "System.out.println(\"Veuillez saisir votre nom : \");\n",
    "quantite1 = clavier.nextInt(); // attend que l'utilisateur tape un nombre, on le met dans saisie\n",
    "quantite2 = clavier.nextInt(); // attend que l'utilisateur tape un nombre, on le met dans saisie\n",
    "\n",
    "System.out.println(\"------------------------------------------------------------------\");\n",
    "System.out.println(\"| Produits    |  Quantités    |   Prix Unitaire   |  Prix Total  |\"); \n",
    "System.out.println(\"------------------------------------------------------------------\");\n",
    "System.out.printf(\"|    %s   |     %3d       |     %7.2f €     |  %7.2f €   |\\n\",nomProduit1,quantite1,prixUnitaire1,quantite1*prixUnitaire1);\n",
    "System.out.println(\"------------------------------------------------------------------\");\n",
    "System.out.printf(\"|    %s  |      %3d      |    %7.2f €      |   %7.2f €  |\\n\",nomProduit2,quantite2,prixUnitaire2,quantite2*prixUnitaire2);\n",
    "System.out.println(\"------------------------------------------------------------------\");\n",
    "System.out.printf(\"|    Total    |      %3d      |     %7.2f €     |   %7.2f €  |\\n\",quantite1+quantite2,prixUnitaire1+prixUnitaire2,quantite1*prixUnitaire1+quantite2*prixUnitaire2);"
   ]
  }
 ],
 "metadata": {
  "kernelspec": {
   "display_name": "Java (rjk 2.2.0)",
   "language": "java",
   "name": "rapaio-jupyter-kernel"
  },
  "language_info": {
   "codemirror_mode": "java",
   "file_extension": ".jshell",
   "mimetype": "text/x-java-source",
   "name": "java",
   "nbconvert_exporter": "script",
   "pygments_lexer": "java",
   "version": "21.0.5+11-LTS"
  }
 },
 "nbformat": 4,
 "nbformat_minor": 2
}
