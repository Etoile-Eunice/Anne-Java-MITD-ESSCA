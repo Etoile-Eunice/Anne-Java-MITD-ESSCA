{
 "cells": [
  {
   "cell_type": "code",
   "execution_count": 9,
   "metadata": {},
   "outputs": [],
   "source": [
    "class Article\n",
    "{\n",
    "    private String nom;\n",
    "    private double prix;\n",
    "    // Constructeur : initialise les attributs\n",
    "    public Article(String n, double p)\n",
    "    {\n",
    "        this.nom = n; \n",
    "        this.prix = p;\n",
    "    }\n",
    "    // Méthode classique\n",
    "    public void augmenter(double taux) \n",
    "    {\n",
    "        this.prix = this.prix * (1+taux);\n",
    "    }\n",
    "    // Accesseurs\n",
    "    public String getNom()\n",
    "    { \n",
    "        return this.nom; \n",
    "    }\n",
    "    public double getPrix()\n",
    "    { \n",
    "        return this.prix; \n",
    "    }\n",
    "    public void setPrix(double nouveauPrix)\n",
    "    { \n",
    "        this.prix = nouveauPrix; \n",
    "    }\n",
    "}"
   ]
  },
  {
   "cell_type": "code",
   "execution_count": 11,
   "metadata": {},
   "outputs": [],
   "source": [
    "Article a1 = new Article(\"Bic\", 2.50);\n",
    "Article a2;\n",
    "\n",
    "a2 = new Article(\"Pile\", 1.0);"
   ]
  },
  {
   "cell_type": "code",
   "execution_count": 12,
   "metadata": {},
   "outputs": [
    {
     "name": "stdout",
     "output_type": "stream",
     "text": [
      "Bic\n",
      "2.5\n",
      "3.0\n"
     ]
    }
   ],
   "source": [
    "System.out.println(a1.getNom());\n",
    "System.out.println(a1.getPrix());\n",
    "a1.augmenter(0.20);\n",
    "System.out.println(a1.getPrix());"
   ]
  }
 ],
 "metadata": {
  "kernelspec": {
   "display_name": "Java (rjk 2.2.0)",
   "language": "java",
   "name": "rapaio-jupyter-kernel"
  },
  "language_info": {
   "codemirror_mode": "java",
   "file_extension": ".jshell",
   "mimetype": "text/x-java-source",
   "name": "java",
   "nbconvert_exporter": "script",
   "pygments_lexer": "java",
   "version": "21.0.6+7-LTS"
  }
 },
 "nbformat": 4,
 "nbformat_minor": 2
}
