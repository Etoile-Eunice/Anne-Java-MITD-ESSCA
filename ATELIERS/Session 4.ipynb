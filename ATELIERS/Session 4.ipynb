{
 "cells": [
  {
   "cell_type": "code",
   "execution_count": null,
   "metadata": {},
   "outputs": [],
   "source": [
    "class Article\n",
    "{\n",
    "    private String nom;\n",
    "    private double prix;\n",
    "    // Constructeur : initialise les attributs\n",
    "    public Article(String n, double p)\n",
    "    {\n",
    "        this.nom = n; \n",
    "        this.prix = p;\n",
    "    }\n",
    "    // Méthode classique\n",
    "    public void augmenter(double taux) \n",
    "    {\n",
    "        this.prix = this.prix * (1+taux);\n",
    "    }\n",
    "    // Accesseurs\n",
    "    public String getNom()\n",
    "    { \n",
    "        return this.nom; \n",
    "    }\n",
    "    public double getPrix()\n",
    "    { \n",
    "        return this.prix; \n",
    "    }\n",
    "    public void setPrix(double nouveauPrix)\n",
    "    { \n",
    "        this.prix = nouveauPrix; \n",
    "    }\n",
    "}"
   ]
  },
  {
   "cell_type": "code",
   "execution_count": 11,
   "metadata": {},
   "outputs": [],
   "source": [
    "Article a1 = new Article(\"Bic\", 2.50);\n",
    "Article a2;\n",
    "\n",
    "a2 = new Article(\"Pile\", 1.0);"
   ]
  },
  {
   "cell_type": "code",
   "execution_count": 12,
   "metadata": {},
   "outputs": [
    {
     "name": "stdout",
     "output_type": "stream",
     "text": [
      "Bic\n",
      "2.5\n",
      "3.0\n"
     ]
    }
   ],
   "source": [
    "System.out.println(a1.getNom());\n",
    "System.out.println(a1.getPrix());\n",
    "a1.augmenter(0.20);\n",
    "System.out.println(a1.getPrix());"
   ]
  },
  {
   "cell_type": "markdown",
   "metadata": {},
   "source": [
    "## Correction du prof"
   ]
  },
  {
   "cell_type": "markdown",
   "metadata": {},
   "source": [
    "### Exemple de classe : Article"
   ]
  },
  {
   "cell_type": "code",
   "execution_count": null,
   "metadata": {},
   "outputs": [],
   "source": [
    "class Article\n",
    "{\n",
    "    private String nom;\n",
    "    private double prix;\n",
    "    \n",
    "    /**\n",
    "     * Initialise un article avec un nom et un prix.\n",
    "     * @param n Nom de l'article\n",
    "     * @param p Prix de l'article\n",
    "     * @throws IllegalArgumentException Le prix est négatif ou nul\n",
    "     * @throws NullPointerException Le nom de l'article est null\n",
    "     * @throws IllegalArgumentException Le nom de l'article est trop court (2 car. min.)\n",
    "     */\n",
    "    public Article(String n, double p)\n",
    "    {\n",
    "        this.setPrix(p);\n",
    "        if(n.length()<2) \n",
    "        {\n",
    "            throw new IllegalArgumentException(\"Le nom de l'article doit faire au moins 2 caractères\") ;\n",
    "        }\n",
    "        this.nom = n; \n",
    "    }\n",
    "    /**\n",
    "     * Augmente le prix selon un taux fourni.\n",
    "     * \n",
    "     * @param taux Taux d'augmentation exprimé en pourcentage 0.10 = 10% \n",
    "     * @throws IllegalArgumentException Le taux est négatif\n",
    "     */\n",
    "    public void augmenter(double taux) \n",
    "    {\n",
    "        if(taux<=0)\n",
    "        {\n",
    "            throw new IllegalArgumentException(\"Le taux doit être strictement positif\");\n",
    "        }\n",
    "        this.prix = this.prix * (1+taux);\n",
    "    }\n",
    "    /**\n",
    "     * Obtient le nom de l'article.\n",
    "     * @return Nom de l'article\n",
    "     */\n",
    "    public String getNom()\n",
    "    { \n",
    "        return this.nom; \n",
    "    }\n",
    "    /**\n",
    "     * Obtient le prix de l'article.\n",
    "     * @return Prix de l'article\n",
    "     */\n",
    "    public double getPrix()\n",
    "    { \n",
    "        return this.prix; \n",
    "    }\n",
    "    /**\n",
    "     * Modifie le prix de l'article.\n",
    "     * @param nouveauPrix Nouveau prix de l'article\n",
    "     * @throws IllegalArgumentException Le prix est négatif ou nul\n",
    "     */\n",
    "    public void setPrix(double nouveauPrix)\n",
    "    { \n",
    "        if(nouveauPrix<=0)\n",
    "        {\n",
    "            throw new IllegalArgumentException(\"Le prix doit être strictement positif\") ;\n",
    "        }\n",
    "        this.prix = nouveauPrix; \n",
    "    }\n",
    "\n",
    "    /**\n",
    "     * Programme d'exemple utilisant l'article (dans une cellule séparée du notebook).\n",
    "     */\n",
    "    public static void main(String[] args)\n",
    "    {\n",
    "        Article a1=new Article(\"Bic\", 2.50);\n",
    "        Article a2;\n",
    "\n",
    "        a2= new Article(\"Pile\", 1.0);\n",
    "\n",
    "        System.out.println(a1.getNom());\n",
    "        System.out.println(a1.getPrix());\n",
    "        a1.augmenter(0.20);\n",
    "        System.out.println(a1.getPrix());\n",
    "    }\n",
    "}"
   ]
  }
 ],
 "metadata": {
  "kernelspec": {
   "display_name": "Java (rjk 2.2.0)",
   "language": "java",
   "name": "rapaio-jupyter-kernel"
  },
  "language_info": {
   "codemirror_mode": "java",
   "file_extension": ".jshell",
   "mimetype": "text/x-java-source",
   "name": "java",
   "nbconvert_exporter": "script",
   "pygments_lexer": "java",
   "version": "21.0.6+7-LTS"
  }
 },
 "nbformat": 4,
 "nbformat_minor": 2
}
