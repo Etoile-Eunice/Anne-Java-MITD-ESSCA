{
 "cells": [
  {
   "cell_type": "markdown",
   "metadata": {},
   "source": [
    "# Rappel des séances 1 et 2"
   ]
  },
  {
   "cell_type": "code",
   "execution_count": null,
   "metadata": {},
   "outputs": [],
   "source": [
    "System.out.println(\"Bonjour tout le monde !!!\");"
   ]
  },
  {
   "cell_type": "code",
   "execution_count": null,
   "metadata": {},
   "outputs": [],
   "source": [
    "String nom = \"Sylvain\";\n",
    "\n",
    "System.out.printf(\"Bonjour %s.\", nom);"
   ]
  },
  {
   "cell_type": "code",
   "execution_count": null,
   "metadata": {},
   "outputs": [],
   "source": [
    "int quantite1 = 5, quantite2 = 1;\n",
    "\n",
    "System.out.printf(\"Vous allez acheter %d stylo(s) et %d cahier(s).\\n\", quantite1, quantite2);"
   ]
  },
  {
   "cell_type": "markdown",
   "metadata": {},
   "source": [
    "# Conditions"
   ]
  },
  {
   "cell_type": "code",
   "execution_count": null,
   "metadata": {},
   "outputs": [],
   "source": [
    "System.out.print(\"Vous allez acheter\");\n",
    "if(quantite1 > 0) \n",
    "{\n",
    "    System.out.printf(\" %d stylo(s)\", quantite1); \n",
    "}\n",
    "if(quantite2 > 0) \n",
    "{\n",
    "    System.out.printf(\" %d cahier(s)\", quantite2); \n",
    "}"
   ]
  },
  {
   "cell_type": "code",
   "execution_count": null,
   "metadata": {},
   "outputs": [],
   "source": [
    "int quantite1 = 12, quantite2 = 6;\n",
    "\n",
    "System.out.print(\"Vous allez acheter\");\n",
    "if(quantite1 > 1) \n",
    "{\n",
    "    System.out.printf(\" %d stylos\", quantite1); \n",
    "}\n",
    "else\n",
    "{\n",
    "    System.out.printf(\" %d stylo\", quantite1);\n",
    "}\n",
    "\n",
    "if(quantite2 == 1) \n",
    "{\n",
    "    System.out.print(\" 1 cahier\"); \n",
    "}\n",
    "else if(quantite2 > 1)\n",
    "{\n",
    "    System.out.printf(\" %d cahiers\", quantite2);\n",
    "}\n",
    "else\n",
    "{\n",
    "    System.out.print(\"aucun cahier\");\n",
    "}\n",
    "\n",
    "if(quantite1 >= 10 && quantite2 >= 5)\n",
    "{\n",
    "    System.out.print(\" => 1 gomme offerte\");\n",
    "}\n",
    "\n",
    "if(!(quantite1<0))\n",
    "{\n",
    "    // System.out.println(\"La quantite1 n'est pas négative.\");\n",
    "}"
   ]
  },
  {
   "cell_type": "markdown",
   "metadata": {},
   "source": [
    "# Boucles"
   ]
  },
  {
   "cell_type": "markdown",
   "metadata": {},
   "source": [
    "## while"
   ]
  },
  {
   "cell_type": "code",
   "execution_count": null,
   "metadata": {},
   "outputs": [],
   "source": [
    "int nombre = 9;\n",
    "\n",
    "while(nombre > 0)\n",
    "{\n",
    "    System.out.printf(\"%d se divise par 2\\n\", nombre);\n",
    "    nombre = nombre/2; // Division entière\n",
    "}"
   ]
  },
  {
   "cell_type": "markdown",
   "metadata": {},
   "source": [
    "## do...while()"
   ]
  },
  {
   "cell_type": "code",
   "execution_count": null,
   "metadata": {},
   "outputs": [
    {
     "ename": "",
     "evalue": "",
     "output_type": "error",
     "traceback": [
      "\u001b[1;31mImpossible d’exécuter le code ; la session a été supprimée. Essayez de redémarrer le noyau."
     ]
    },
    {
     "ename": "",
     "evalue": "",
     "output_type": "error",
     "traceback": [
      "\u001b[1;31mImpossible d’exécuter le code ; la session a été supprimée. Essayez de redémarrer le noyau. \n",
      "\u001b[1;31mPour plus d’informations, consultez Jupyter <a href='command:jupyter.viewOutput'>log</a>."
     ]
    }
   ],
   "source": [
    "import java.util.Scanner;\n",
    "\n",
    "Scanner clavier = new Scanner(System.in);\n",
    "int reponse;\n",
    "\n",
    "do\n",
    "{\n",
    "    System.out.println(\"Répondez  1:oui ou 2:non\");\n",
    "    reponse = clavier.nextInt();\n",
    "}\n",
    "while(reponse != 1 && reponse != 2);\n",
    "\n",
    "if(reponse==1)\n",
    "{\n",
    "    System.out.println(\"C'est oui.\");\n",
    "}\n",
    "else\n",
    "{\n",
    "    System.out.println(\"C'est non\");\n",
    "}"
   ]
  },
  {
   "cell_type": "markdown",
   "metadata": {},
   "source": [
    "## for"
   ]
  },
  {
   "cell_type": "code",
   "execution_count": null,
   "metadata": {},
   "outputs": [],
   "source": [
    "int limite = 10;\n",
    "\n",
    "for(int i=0; i<limite; i++)\n",
    "{\n",
    "    System.out.printf(\"- %d\\n\", i);\n",
    "}"
   ]
  }
 ],
 "metadata": {
  "kernelspec": {
   "display_name": "Java (rjk 2.2.0)",
   "language": "java",
   "name": "rapaio-jupyter-kernel"
  },
  "language_info": {
   "codemirror_mode": "java",
   "file_extension": ".jshell",
   "mimetype": "text/x-java-source",
   "name": "java",
   "nbconvert_exporter": "script",
   "pygments_lexer": "java",
   "version": "21.0.5+11-LTS"
  }
 },
 "nbformat": 4,
 "nbformat_minor": 2
}
