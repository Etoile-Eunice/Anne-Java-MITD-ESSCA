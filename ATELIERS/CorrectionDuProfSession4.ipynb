class Article
{
    private String nom;
    private double prix;
    
    /**
     * Initialise un article avec un nom et un prix.
     * @param n Nom de l'article
     * @param p Prix de l'article
     * @throws IllegalArgumentException Le prix est négatif ou nul
     * @throws NullPointerException Le nom de l'article est null
     * @throws IllegalArgumentException Le nom de l'article est trop court (2 car. min.)
     */
    public Article(String n, double p)
    {
        this.setPrix(p);
        if(n.length()<2) 
        {
            throw new IllegalArgumentException("Le nom de l'article doit faire au moins 2 caractères") ;
        }
        this.nom = n; 
    }
    /**
     * Augmente le prix selon un taux fourni.
     * 
     * @param taux Taux d'augmentation exprimé en pourcentage 0.10 = 10% 
     * @throws IllegalArgumentException Le taux est négatif
     */
    public void augmenter(double taux) 
    {
        if(taux<=0)
        {
            throw new IllegalArgumentException("Le taux doit être strictement positif");
        }
        this.prix = this.prix * (1+taux);
    }
    /**
     * Obtient le nom de l'article.
     * @return Nom de l'article
     */
    public String getNom()
    { 
        return this.nom; 
    }
    /**
     * Obtient le prix de l'article.
     * @return Prix de l'article
     */
    public double getPrix()
    { 
        return this.prix; 
    }
    /**
     * Modifie le prix de l'article.
     * @param nouveauPrix Nouveau prix de l'article
     * @throws IllegalArgumentException Le prix est négatif ou nul
     */
    public void setPrix(double nouveauPrix)
    { 
        if(nouveauPrix<=0)
        {
            throw new IllegalArgumentException("Le prix doit être strictement positif") ;
        }
        this.prix = nouveauPrix; 
    }

    /**
     * Programme d'exemple utilisant l'article (dans une cellule séparée du notebook).
     */
    public static void main(String[] args)
    {
        Article a1=new Article("Bic", 2.50);
        Article a2;

        a2= new Article("Pile", 1.0);

        System.out.println(a1.getNom());
        System.out.println(a1.getPrix());
        a1.augmenter(0.20);
        System.out.println(a1.getPrix());
    }
}
