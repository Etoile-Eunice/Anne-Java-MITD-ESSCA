{
 "cells": [
  {
   "cell_type": "code",
   "execution_count": null,
   "metadata": {
    "vscode": {
     "languageId": "java"
    }
   },
   "outputs": [],
   "source": [
    "import java.util.Scanner;\n",
    "\n",
    "Scanner keyboard = new Scanner(System.in);\n",
    "\n",
    "String productName1 = \"Stylos\"; \n",
    "double unitPrice1 = 1.2; \n",
    "\n",
    "System.out.printf(\"How many %s at €%.2f ?\\n\", productName1, unitPrice1);\n",
    "int quantity1 = keyboard.nextInt();\n",
    "\n",
    "String productName2 = \"Cahier\";\n",
    "double unitPrice2 = 3.5;\n",
    "\n",
    "System.out.printf(\"How many %s à €%.2f ?\\n\", productName2, unitPrice2);\n",
    "int quantity2 = keyboard.nextInt();\n",
    "\n",
    "keyboard.close();\n",
    "\n",
    "double total = 0;\n",
    "\n",
    "System.out.println(\"+---------------+---------+-----+----------+\");\n",
    "System.out.println(\"| Product       | € Unit  | Qty |   price  |\");\n",
    "System.out.println(\"+---------------+---------+-----+----------+\");\n",
    "\n",
    "double price1 = unitPrice1 * (double)quantity1;\n",
    "\n",
    "total += price1;\n",
    "System.out.printf(\"| %-13s | %6.2f€ | %3d | %7.2f€ |\\n\", productName1, unitPrice1, quantity1, price1);\n",
    "\n",
    "double price2 = unitPrice2 * (double)quantity2;\n",
    "\n",
    "total += price2;\n",
    "System.out.printf(\"| %-13s | %6.2f€ | %3d | %7.2f€ |\\n\", productName2, unitPrice2, quantity2, price2);\n",
    "\n",
    "System.out.println(\"+---------------+---------+-----+----------+\");\n",
    "System.out.printf(\"                                | %7.2f€ |\\n\", total);\n",
    "System.out.println(\"                                +----------+\");"
   ]
  }
 ],
 "metadata": {
  "language_info": {
   "name": "python"
  }
 },
 "nbformat": 4,
 "nbformat_minor": 2
}
