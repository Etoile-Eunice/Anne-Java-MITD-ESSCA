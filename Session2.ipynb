{
 "cells": [
  {
   "cell_type": "code",
   "execution_count": null,
   "metadata": {
    "vscode": {
     "languageId": "java"
    }
   },
   "outputs": [],
   "source": []
  },
  {
   "cell_type": "code",
   "execution_count": null,
   "metadata": {
    "vscode": {
     "languageId": "java"
    }
   },
   "outputs": [],
   "source": [
    "int quantite1 = 5, quantite2 = 2;\n",
    "\n",
    "System.out.print(\"Vous allez acheter:\");\n",
    "if(quantite1 > 0)\n",
    "{\n",
    "    system.out.printf(\" %d stylo (s)\" quantite1);\n",
    "}\n",
    "else{\n",
    "    system.out.printf(\"%d stylo\", quantite1);\n",
    "}\n",
    "if(quantite2 == 1)\n",
    "{\n",
    "    system.out.print(\" 1 cahier\");\n",
    "}\n",
    "else if(quantite2 > 1)\n",
    "{\n",
    "    system.out.printf( %d cahiers\", quantite2);\n",
    "}\n",
    "else{\n",
    "system.out.print(\"aucun cahier\");\n",
    "}"
   ]
  }
 ],
 "metadata": {
  "language_info": {
   "name": "python"
  }
 },
 "nbformat": 4,
 "nbformat_minor": 2
}
