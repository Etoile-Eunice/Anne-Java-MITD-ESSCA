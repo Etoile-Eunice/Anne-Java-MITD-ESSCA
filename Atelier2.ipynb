{
 "cells": [
  {
   "cell_type": "markdown",
   "metadata": {},
   "source": [
    "## Etape 1 - Validation d'une saisie"
   ]
  },
  {
   "cell_type": "code",
   "execution_count": 1,
   "metadata": {},
   "outputs": [
    {
     "name": "stdout",
     "output_type": "stream",
     "text": [
      "Saisir un entier entre 2 et 15 : \n",
      "Le nombre est bien dans l'intervalle !\n"
     ]
    }
   ],
   "source": [
    "import java.util.Scanner;\n",
    "\n",
    "Scanner clavier = new Scanner(System.in);\n",
    "int reponse;\n",
    "\n",
    "    do \n",
    "    {\n",
    "        System.out.println(\"Saisir un entier entre 2 et 15 : \");\n",
    "        reponse = clavier.nextInt();\n",
    "\n",
    "        if (reponse < 2 || reponse > 15) \n",
    "        {\n",
    "            System.out.println(\"Le nombre n'est pas dans l'intervalle. Veuillez recommencer.\");\n",
    "        }\n",
    "    } \n",
    "    while (reponse < 2 || reponse > 15);\n",
    "\n",
    "    System.out.println(\"Le nombre est bien dans l'intervalle !\");"
   ]
  },
  {
   "cell_type": "markdown",
   "metadata": {},
   "source": [
    "## Étape 2 - Dessin de ligne(s)"
   ]
  },
  {
   "cell_type": "code",
   "execution_count": 2,
   "metadata": {},
   "outputs": [
    {
     "name": "stdout",
     "output_type": "stream",
     "text": [
      "Saisir un entier entre 2 et 15 : \n",
      "Le nombre est bien dans l'intervalle !\n",
      "* * * * * * * * * * * * * * \n",
      "* * * * * * * * * * * * * * \n",
      "* * * * * * * * * * * * * * \n",
      "* * * * * * * * * * * * * * \n",
      "* * * * * * * * * * * * * * \n",
      "* * * * * * * * * * * * * * \n",
      "* * * * * * * * * * * * * * \n",
      "* * * * * * * * * * * * * * \n",
      "* * * * * * * * * * * * * * \n",
      "* * * * * * * * * * * * * * \n",
      "* * * * * * * * * * * * * * \n",
      "* * * * * * * * * * * * * * \n",
      "* * * * * * * * * * * * * * \n",
      "* * * * * * * * * * * * * * \n"
     ]
    }
   ],
   "source": [
    "import java.util.Scanner;\n",
    "\n",
    "Scanner clavier = new Scanner(System.in);\n",
    "int reponse;\n",
    "\n",
    "    do \n",
    "    {\n",
    "        System.out.println(\"Saisir un entier entre 2 et 15 : \");\n",
    "        reponse = clavier.nextInt();\n",
    "\n",
    "        if (reponse < 2 || reponse > 15) \n",
    "        {\n",
    "            System.out.println(\"Le nombre n'est pas dans l'intervalle. Veuillez recommencer.\");\n",
    "        }\n",
    "    } \n",
    "    while (reponse < 2 || reponse > 15);\n",
    "\n",
    "    System.out.println(\"Le nombre est bien dans l'intervalle !\");\n",
    "\n",
    "    for (int j = 0; j < reponse; j++) \n",
    "    {\n",
    "        for (int i = 0; i < reponse; i++) \n",
    "        {\n",
    "            System.out.print(\"* \");\n",
    "        }\n",
    "\n",
    "        System.out.println();\n",
    "    }"
   ]
  },
  {
   "cell_type": "markdown",
   "metadata": {},
   "source": [
    "### Etape 2 - Duplication"
   ]
  },
  {
   "cell_type": "code",
   "execution_count": 3,
   "metadata": {},
   "outputs": [
    {
     "name": "stdout",
     "output_type": "stream",
     "text": [
      "Saisir un entier entre 2 et 15 : \n",
      "Le nombre est bien dans l'intervalle !\n",
      "Répondez  1:creux ou 2:plein\n",
      "* * * * * * * * * * * * * \n",
      "*                       * \n",
      "*                       * \n",
      "*                       * \n",
      "*                       * \n",
      "*                       * \n",
      "*                       * \n",
      "*                       * \n",
      "*                       * \n",
      "*                       * \n",
      "*                       * \n",
      "*                       * \n",
      "* * * * * * * * * * * * * \n"
     ]
    }
   ],
   "source": [
    "import java.util.Scanner;\n",
    "\n",
    "Scanner clavier = new Scanner(System.in);\n",
    "int reponse;\n",
    "\n",
    "    do \n",
    "    {\n",
    "        System.out.println(\"Saisir un entier entre 2 et 15 : \");\n",
    "        reponse = clavier.nextInt();\n",
    "\n",
    "        if (reponse < 2 || reponse > 15) \n",
    "        {\n",
    "            System.out.println(\"Le nombre n'est pas dans l'intervalle. Veuillez recommencer.\");\n",
    "        }\n",
    "    } \n",
    "    while (reponse < 2 || reponse > 15);\n",
    "\n",
    "    System.out.println(\"Le nombre est bien dans l'intervalle !\");\n",
    "        \n",
    "int reponse2;\n",
    "    do\n",
    "    {\n",
    "        System.out.println(\"Répondez  1:creux ou 2:plein\");\n",
    "        reponse2 = clavier.nextInt();\n",
    "    }\n",
    "    while(reponse2 != 1 && reponse2 != 2);\n",
    "            \n",
    "    if(reponse2==1)\n",
    "    {\n",
    "        for (int j = 0; j < reponse; j++) \n",
    "        {\n",
    "            for (int i = 0; i < reponse; i++) \n",
    "            {\n",
    "                if (j==0 || j==reponse - 1 || i==0 || i==reponse - 1)\n",
    "                {\n",
    "                    System.out.print(\"* \"); \n",
    "                } \n",
    "                else \n",
    "                {\n",
    "                    System.out.print(\"  \");\n",
    "                }\n",
    "            }\n",
    "\n",
    "            System.out.println(); \n",
    "        }\n",
    "    }\n",
    "    else\n",
    "    {\n",
    "        for (int j = 0; j < reponse; j++) \n",
    "        {\n",
    "            for (int i = 0; i < reponse; i++) \n",
    "            {\n",
    "                System.out.print(\"* \");\n",
    "            }\n",
    "\n",
    "            System.out.println();\n",
    "        }\n",
    "    }\n",
    "       \n",
    "        "
   ]
  },
  {
   "cell_type": "markdown",
   "metadata": {},
   "source": [
    "## Etape 3 - Dessin de triangle"
   ]
  },
  {
   "cell_type": "code",
   "execution_count": 4,
   "metadata": {},
   "outputs": [
    {
     "name": "stdout",
     "output_type": "stream",
     "text": [
      "Saisir un entier entre 2 et 15 : \n",
      "Le nombre est bien dans l'intervalle !\n",
      "         \n",
      "        * \n",
      "       * * \n",
      "      * * * \n",
      "     * * * * \n",
      "    * * * * * \n",
      "   * * * * * * \n",
      "  * * * * * * * \n",
      " * * * * * * * * \n",
      "* * * * * * * * * \n"
     ]
    }
   ],
   "source": [
    "import java.util.Scanner;\n",
    "\n",
    "Scanner clavier = new Scanner(System.in);\n",
    "int reponse;\n",
    "\n",
    "        do \n",
    "        {\n",
    "            System.out.println(\"Saisir un entier entre 2 et 15 : \");\n",
    "            reponse = clavier.nextInt();\n",
    "\n",
    "            if (reponse < 2 || reponse > 15) \n",
    "            {\n",
    "                System.out.println(\"Erreur : Veuillez recommencer.\");\n",
    "            }\n",
    "        } \n",
    "        while (reponse < 2 || reponse > 15);\n",
    "\n",
    "        System.out.println(\"Le nombre est bien dans l'intervalle !\");\n",
    "\n",
    "       for (int i = 0; i <= reponse; i++) \n",
    "       { \n",
    "            for (int j = 0; j < reponse - i; j++) \n",
    "            {\n",
    "                System.out.print(\" \");\n",
    "            }\n",
    "       \n",
    "            for (int j = 1; j <= i ; j++) //\n",
    "            {\n",
    "                System.out.print(\"* \");\n",
    "            }\n",
    "             System.out.println(); \n",
    "        }"
   ]
  },
  {
   "cell_type": "markdown",
   "metadata": {},
   "source": [
    "### Etape 3 - Triangles supperposés tronqués"
   ]
  },
  {
   "cell_type": "code",
   "execution_count": null,
   "metadata": {},
   "outputs": [
    {
     "name": "stdout",
     "output_type": "stream",
     "text": [
      "Saisir un entier entre 2 et 15 : \n"
     ]
    }
   ],
   "source": [
    "import java.util.Scanner;\n",
    "\n",
    "Scanner clavier = new Scanner(System.in);\n",
    "int reponse;\n",
    "\n",
    "        do \n",
    "        {\n",
    "            System.out.println(\"Saisir un entier entre 2 et 15 : \");\n",
    "            reponse = clavier.nextInt();\n",
    "\n",
    "            if (reponse < 2 || reponse > 15) \n",
    "            {\n",
    "                System.out.println(\"Le nombre n'est pas dans l'intervalle. Veuillez recommencer.\");\n",
    "            }\n",
    "        } \n",
    "        while (reponse < 2 || reponse > 15);\n",
    "\n",
    "        System.out.println(\"Le nombre est bien dans l'intervalle !\");\n",
    "\n",
    "       \n",
    "        int step = 1; // Nombre d'étoiles à afficher\n",
    "        boolean increase = true; // Indique si on augmente ou diminue les étoiles\n",
    "\n",
    "        while (step <= reponse) {\n",
    "            // Espaces pour aligner les étoiles\n",
    "            for (int j = 0; j < reponse - step; j++) {\n",
    "                System.out.print(\" \");\n",
    "            }\n",
    "            // Affichage des étoiles\n",
    "            for (int k = 0; k < step; k++) {\n",
    "                System.out.print(\"* \");\n",
    "            }\n",
    "            System.out.println();\n",
    "\n",
    "            if (increase) {\n",
    "                step++;\n",
    "            } else {\n",
    "                step--;\n",
    "            }\n",
    "\n",
    "            if (step == reponse - 1) \n",
    "            { \n",
    "                increase = true;\n",
    "            } \n",
    "            else if (step == 2) \n",
    "            {\n",
    "                increase = false;\n",
    "            }\n",
    "        }"
   ]
  }
 ],
 "metadata": {
  "kernelspec": {
   "display_name": "Java (rjk 2.2.0)",
   "language": "java",
   "name": "rapaio-jupyter-kernel"
  },
  "language_info": {
   "codemirror_mode": "java",
   "file_extension": ".jshell",
   "mimetype": "text/x-java-source",
   "name": "java",
   "nbconvert_exporter": "script",
   "pygments_lexer": "java",
   "version": "21.0.5+11-LTS"
  }
 },
 "nbformat": 4,
 "nbformat_minor": 2
}
