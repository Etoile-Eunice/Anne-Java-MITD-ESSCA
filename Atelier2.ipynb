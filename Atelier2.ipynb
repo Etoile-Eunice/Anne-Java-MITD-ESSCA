{
 "cells": [
  {
   "cell_type": "markdown",
   "metadata": {},
   "source": [
    "## Etape 1 - Validation d'une saisie"
   ]
  },
  {
   "cell_type": "code",
   "execution_count": null,
   "metadata": {},
   "outputs": [],
   "source": [
    "import java.util.Scanner;\n",
    "\n",
    "Scanner clavier = new Scanner(System.in);\n",
    "int reponse;\n",
    "\n",
    "        do {\n",
    "            System.out.println(\"Saisir un entier entre 2 et 15 : \");\n",
    "            reponse = clavier.nextInt();\n",
    "\n",
    "            if (reponse < 2 || reponse > 15) {\n",
    "                System.out.println(\"Le nombre n'est pas dans l'intervalle. Veuillez recommencer.\");\n",
    "            }\n",
    "        } while (reponse < 2 || reponse > 15); // Tant que la saisie n'est pas correcte, on redemande\n",
    "\n",
    "        System.out.println(\"Le nombre \" + reponse + \" est bien dans l'intervalle !\");"
   ]
  },
  {
   "cell_type": "markdown",
   "metadata": {},
   "source": [
    "## Étape 2 - Dessin de ligne(s)"
   ]
  },
  {
   "cell_type": "code",
   "execution_count": null,
   "metadata": {},
   "outputs": [],
   "source": [
    "import java.util.Scanner;\n",
    "\n",
    "Scanner clavier = new Scanner(System.in);\n",
    "int reponse;\n",
    "\n",
    "        do {\n",
    "            System.out.println(\"Saisir un entier entre 2 et 15 : \");\n",
    "            reponse = clavier.nextInt();\n",
    "\n",
    "            if (reponse < 2 || reponse > 15) {\n",
    "                System.out.println(\"Le nombre n'est pas dans l'intervalle. Veuillez recommencer.\");\n",
    "            }\n",
    "        } while (reponse < 2 || reponse > 15); // Tant que la saisie n'est pas correcte, on redemande\n",
    "\n",
    "        System.out.println(\"Le nombre \" + reponse + \" est bien dans l'intervalle !\");\n",
    "\n",
    "       for (int j = 0; j < reponse; j++) \n",
    "       {\n",
    "        for (int i = 0; i < reponse; i++) {\n",
    "            System.out.print(\"* \"); // Affichage avec un espace pour séparer les étoiles\n",
    "        }\n",
    "\n",
    "        System.out.println(); // Pour aller à la ligne après l'affichage\n",
    "    }"
   ]
  },
  {
   "cell_type": "markdown",
   "metadata": {},
   "source": [
    "### Etape 2 - Duplication"
   ]
  },
  {
   "cell_type": "code",
   "execution_count": 27,
   "metadata": {},
   "outputs": [
    {
     "name": "stdout",
     "output_type": "stream",
     "text": [
      "Saisir un entier entre 2 et 15 : \n",
      "Le nombre 3 est bien dans l'intervalle !\n",
      "Répondez  1:creux ou 2:plein\n",
      "* * * \n",
      "* * * \n",
      "* * * \n"
     ]
    }
   ],
   "source": [
    "import java.util.Scanner;\n",
    "\n",
    "Scanner clavier = new Scanner(System.in);\n",
    "int reponse;\n",
    "\n",
    "        do {\n",
    "            System.out.println(\"Saisir un entier entre 2 et 15 : \");\n",
    "            reponse = clavier.nextInt();\n",
    "\n",
    "            if (reponse < 2 || reponse > 15) {\n",
    "                System.out.println(\"Le nombre n'est pas dans l'intervalle. Veuillez recommencer.\");\n",
    "            }\n",
    "        } while (reponse < 2 || reponse > 15); // Tant que la saisie n'est pas correcte, on redemande\n",
    "\n",
    "        System.out.println(\"Le nombre \" + reponse + \" est bien dans l'intervalle !\");\n",
    "        \n",
    "        int reponse2;\n",
    "        do\n",
    "        {\n",
    "            System.out.println(\"Répondez  1:creux ou 2:plein\");\n",
    "            reponse2 = clavier.nextInt();\n",
    "        }\n",
    "        while(reponse2 != 1 && reponse2 != 2);\n",
    "        \n",
    "        if(reponse2==1)\n",
    "        {\n",
    "            for (int j = 0; j < reponse; j++) \n",
    "       {\n",
    "        for (int i = 0; i < reponse; i++) {\n",
    "            if (j==0 || j==reponse - 1 || i==0 || i==reponse - 1){\n",
    "            System.out.print(\"* \"); // Affichage avec un espace pour séparer les étoiles\n",
    "        } else {System.out.print(\"  \");}}\n",
    "\n",
    "        System.out.println(); // Pour aller à la ligne après l'affichage\n",
    "    }\n",
    "        }\n",
    "        else\n",
    "        {\n",
    "            for (int j = 0; j < reponse; j++) \n",
    "       {\n",
    "        for (int i = 0; i < reponse; i++) {\n",
    "            System.out.print(\"* \"); // Affichage avec un espace pour séparer les étoiles\n",
    "        }\n",
    "\n",
    "        System.out.println(); // Pour aller à la ligne après l'affichage\n",
    "    }\n",
    "        }\n",
    "       \n",
    "        "
   ]
  },
  {
   "cell_type": "markdown",
   "metadata": {},
   "source": [
    "## Etape 3 - Dessin de triangle"
   ]
  }
 ],
 "metadata": {
  "kernelspec": {
   "display_name": "Java (rjk 2.2.0)",
   "language": "java",
   "name": "rapaio-jupyter-kernel"
  },
  "language_info": {
   "codemirror_mode": "java",
   "file_extension": ".jshell",
   "mimetype": "text/x-java-source",
   "name": "java",
   "nbconvert_exporter": "script",
   "pygments_lexer": "java",
   "version": "21.0.5+11-LTS"
  }
 },
 "nbformat": 4,
 "nbformat_minor": 2
}
